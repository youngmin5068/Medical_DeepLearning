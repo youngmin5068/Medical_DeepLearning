{
  "nbformat": 4,
  "nbformat_minor": 0,
  "metadata": {
    "colab": {
      "provenance": [],
      "include_colab_link": true
    },
    "kernelspec": {
      "name": "python3",
      "display_name": "Python 3"
    },
    "language_info": {
      "name": "python"
    },
    "accelerator": "GPU",
    "gpuClass": "standard",
    "widgets": {
      "application/vnd.jupyter.widget-state+json": {
        "4a1aee6cc13046009fb869404fbb6f95": {
          "model_module": "@jupyter-widgets/controls",
          "model_name": "HBoxModel",
          "model_module_version": "1.5.0",
          "state": {
            "_dom_classes": [],
            "_model_module": "@jupyter-widgets/controls",
            "_model_module_version": "1.5.0",
            "_model_name": "HBoxModel",
            "_view_count": null,
            "_view_module": "@jupyter-widgets/controls",
            "_view_module_version": "1.5.0",
            "_view_name": "HBoxView",
            "box_style": "",
            "children": [
              "IPY_MODEL_d778b97ce8524313977769646e4c212c",
              "IPY_MODEL_d462e33b5df944b28319e48c04940cf8",
              "IPY_MODEL_efaeddd0f1a94465a4cc514e63668f84"
            ],
            "layout": "IPY_MODEL_3f07ee955b6b4d6282b3315ca7509082"
          }
        },
        "d778b97ce8524313977769646e4c212c": {
          "model_module": "@jupyter-widgets/controls",
          "model_name": "HTMLModel",
          "model_module_version": "1.5.0",
          "state": {
            "_dom_classes": [],
            "_model_module": "@jupyter-widgets/controls",
            "_model_module_version": "1.5.0",
            "_model_name": "HTMLModel",
            "_view_count": null,
            "_view_module": "@jupyter-widgets/controls",
            "_view_module_version": "1.5.0",
            "_view_name": "HTMLView",
            "description": "",
            "description_tooltip": null,
            "layout": "IPY_MODEL_f97d1bd23f3c47f08c71a3f4847187d7",
            "placeholder": "​",
            "style": "IPY_MODEL_777d88cd4a2e453eb1544ddb444c0394",
            "value": ""
          }
        },
        "d462e33b5df944b28319e48c04940cf8": {
          "model_module": "@jupyter-widgets/controls",
          "model_name": "FloatProgressModel",
          "model_module_version": "1.5.0",
          "state": {
            "_dom_classes": [],
            "_model_module": "@jupyter-widgets/controls",
            "_model_module_version": "1.5.0",
            "_model_name": "FloatProgressModel",
            "_view_count": null,
            "_view_module": "@jupyter-widgets/controls",
            "_view_module_version": "1.5.0",
            "_view_name": "ProgressView",
            "bar_style": "danger",
            "description": "",
            "description_tooltip": null,
            "layout": "IPY_MODEL_22a471c7226245a881d0b5817ef09477",
            "max": 1,
            "min": 0,
            "orientation": "horizontal",
            "style": "IPY_MODEL_3f22b8baf2604905ab53f542bf83fa96",
            "value": 1
          }
        },
        "efaeddd0f1a94465a4cc514e63668f84": {
          "model_module": "@jupyter-widgets/controls",
          "model_name": "HTMLModel",
          "model_module_version": "1.5.0",
          "state": {
            "_dom_classes": [],
            "_model_module": "@jupyter-widgets/controls",
            "_model_module_version": "1.5.0",
            "_model_name": "HTMLModel",
            "_view_count": null,
            "_view_module": "@jupyter-widgets/controls",
            "_view_module_version": "1.5.0",
            "_view_name": "HTMLView",
            "description": "",
            "description_tooltip": null,
            "layout": "IPY_MODEL_ecea3253f17f4c34a4fdc1cc9b38702f",
            "placeholder": "​",
            "style": "IPY_MODEL_cac40c99879242d8b8d8e191ce34debe",
            "value": " 26/? [00:42&lt;00:00,  1.60s/it]"
          }
        },
        "3f07ee955b6b4d6282b3315ca7509082": {
          "model_module": "@jupyter-widgets/base",
          "model_name": "LayoutModel",
          "model_module_version": "1.2.0",
          "state": {
            "_model_module": "@jupyter-widgets/base",
            "_model_module_version": "1.2.0",
            "_model_name": "LayoutModel",
            "_view_count": null,
            "_view_module": "@jupyter-widgets/base",
            "_view_module_version": "1.2.0",
            "_view_name": "LayoutView",
            "align_content": null,
            "align_items": null,
            "align_self": null,
            "border": null,
            "bottom": null,
            "display": null,
            "flex": null,
            "flex_flow": null,
            "grid_area": null,
            "grid_auto_columns": null,
            "grid_auto_flow": null,
            "grid_auto_rows": null,
            "grid_column": null,
            "grid_gap": null,
            "grid_row": null,
            "grid_template_areas": null,
            "grid_template_columns": null,
            "grid_template_rows": null,
            "height": null,
            "justify_content": null,
            "justify_items": null,
            "left": null,
            "margin": null,
            "max_height": null,
            "max_width": null,
            "min_height": null,
            "min_width": null,
            "object_fit": null,
            "object_position": null,
            "order": null,
            "overflow": null,
            "overflow_x": null,
            "overflow_y": null,
            "padding": null,
            "right": null,
            "top": null,
            "visibility": null,
            "width": null
          }
        },
        "f97d1bd23f3c47f08c71a3f4847187d7": {
          "model_module": "@jupyter-widgets/base",
          "model_name": "LayoutModel",
          "model_module_version": "1.2.0",
          "state": {
            "_model_module": "@jupyter-widgets/base",
            "_model_module_version": "1.2.0",
            "_model_name": "LayoutModel",
            "_view_count": null,
            "_view_module": "@jupyter-widgets/base",
            "_view_module_version": "1.2.0",
            "_view_name": "LayoutView",
            "align_content": null,
            "align_items": null,
            "align_self": null,
            "border": null,
            "bottom": null,
            "display": null,
            "flex": null,
            "flex_flow": null,
            "grid_area": null,
            "grid_auto_columns": null,
            "grid_auto_flow": null,
            "grid_auto_rows": null,
            "grid_column": null,
            "grid_gap": null,
            "grid_row": null,
            "grid_template_areas": null,
            "grid_template_columns": null,
            "grid_template_rows": null,
            "height": null,
            "justify_content": null,
            "justify_items": null,
            "left": null,
            "margin": null,
            "max_height": null,
            "max_width": null,
            "min_height": null,
            "min_width": null,
            "object_fit": null,
            "object_position": null,
            "order": null,
            "overflow": null,
            "overflow_x": null,
            "overflow_y": null,
            "padding": null,
            "right": null,
            "top": null,
            "visibility": null,
            "width": null
          }
        },
        "777d88cd4a2e453eb1544ddb444c0394": {
          "model_module": "@jupyter-widgets/controls",
          "model_name": "DescriptionStyleModel",
          "model_module_version": "1.5.0",
          "state": {
            "_model_module": "@jupyter-widgets/controls",
            "_model_module_version": "1.5.0",
            "_model_name": "DescriptionStyleModel",
            "_view_count": null,
            "_view_module": "@jupyter-widgets/base",
            "_view_module_version": "1.2.0",
            "_view_name": "StyleView",
            "description_width": ""
          }
        },
        "22a471c7226245a881d0b5817ef09477": {
          "model_module": "@jupyter-widgets/base",
          "model_name": "LayoutModel",
          "model_module_version": "1.2.0",
          "state": {
            "_model_module": "@jupyter-widgets/base",
            "_model_module_version": "1.2.0",
            "_model_name": "LayoutModel",
            "_view_count": null,
            "_view_module": "@jupyter-widgets/base",
            "_view_module_version": "1.2.0",
            "_view_name": "LayoutView",
            "align_content": null,
            "align_items": null,
            "align_self": null,
            "border": null,
            "bottom": null,
            "display": null,
            "flex": null,
            "flex_flow": null,
            "grid_area": null,
            "grid_auto_columns": null,
            "grid_auto_flow": null,
            "grid_auto_rows": null,
            "grid_column": null,
            "grid_gap": null,
            "grid_row": null,
            "grid_template_areas": null,
            "grid_template_columns": null,
            "grid_template_rows": null,
            "height": null,
            "justify_content": null,
            "justify_items": null,
            "left": null,
            "margin": null,
            "max_height": null,
            "max_width": null,
            "min_height": null,
            "min_width": null,
            "object_fit": null,
            "object_position": null,
            "order": null,
            "overflow": null,
            "overflow_x": null,
            "overflow_y": null,
            "padding": null,
            "right": null,
            "top": null,
            "visibility": null,
            "width": "20px"
          }
        },
        "3f22b8baf2604905ab53f542bf83fa96": {
          "model_module": "@jupyter-widgets/controls",
          "model_name": "ProgressStyleModel",
          "model_module_version": "1.5.0",
          "state": {
            "_model_module": "@jupyter-widgets/controls",
            "_model_module_version": "1.5.0",
            "_model_name": "ProgressStyleModel",
            "_view_count": null,
            "_view_module": "@jupyter-widgets/base",
            "_view_module_version": "1.2.0",
            "_view_name": "StyleView",
            "bar_color": null,
            "description_width": ""
          }
        },
        "ecea3253f17f4c34a4fdc1cc9b38702f": {
          "model_module": "@jupyter-widgets/base",
          "model_name": "LayoutModel",
          "model_module_version": "1.2.0",
          "state": {
            "_model_module": "@jupyter-widgets/base",
            "_model_module_version": "1.2.0",
            "_model_name": "LayoutModel",
            "_view_count": null,
            "_view_module": "@jupyter-widgets/base",
            "_view_module_version": "1.2.0",
            "_view_name": "LayoutView",
            "align_content": null,
            "align_items": null,
            "align_self": null,
            "border": null,
            "bottom": null,
            "display": null,
            "flex": null,
            "flex_flow": null,
            "grid_area": null,
            "grid_auto_columns": null,
            "grid_auto_flow": null,
            "grid_auto_rows": null,
            "grid_column": null,
            "grid_gap": null,
            "grid_row": null,
            "grid_template_areas": null,
            "grid_template_columns": null,
            "grid_template_rows": null,
            "height": null,
            "justify_content": null,
            "justify_items": null,
            "left": null,
            "margin": null,
            "max_height": null,
            "max_width": null,
            "min_height": null,
            "min_width": null,
            "object_fit": null,
            "object_position": null,
            "order": null,
            "overflow": null,
            "overflow_x": null,
            "overflow_y": null,
            "padding": null,
            "right": null,
            "top": null,
            "visibility": null,
            "width": null
          }
        },
        "cac40c99879242d8b8d8e191ce34debe": {
          "model_module": "@jupyter-widgets/controls",
          "model_name": "DescriptionStyleModel",
          "model_module_version": "1.5.0",
          "state": {
            "_model_module": "@jupyter-widgets/controls",
            "_model_module_version": "1.5.0",
            "_model_name": "DescriptionStyleModel",
            "_view_count": null,
            "_view_module": "@jupyter-widgets/base",
            "_view_module_version": "1.2.0",
            "_view_name": "StyleView",
            "description_width": ""
          }
        }
      }
    }
  },
  "cells": [
    {
      "cell_type": "markdown",
      "metadata": {
        "id": "view-in-github",
        "colab_type": "text"
      },
      "source": [
        "<a href=\"https://colab.research.google.com/github/youngmin5068/Medical_DeepLearning/blob/main/UNet.ipynb\" target=\"_parent\"><img src=\"https://colab.research.google.com/assets/colab-badge.svg\" alt=\"Open In Colab\"/></a>"
      ]
    },
    {
      "cell_type": "code",
      "execution_count": null,
      "metadata": {
        "id": "ZybU1iHheRJU"
      },
      "outputs": [],
      "source": []
    },
    {
      "cell_type": "code",
      "source": [
        "from google.colab import drive\n",
        "drive.mount('/content/drive')"
      ],
      "metadata": {
        "colab": {
          "base_uri": "https://localhost:8080/"
        },
        "id": "5RcNyHeVecwK",
        "outputId": "7821f8a1-a241-4000-a2f8-72a911a6350e"
      },
      "execution_count": 1,
      "outputs": [
        {
          "output_type": "stream",
          "name": "stdout",
          "text": [
            "Mounted at /content/drive\n"
          ]
        }
      ]
    },
    {
      "cell_type": "code",
      "source": [
        "!pip install torchsummary"
      ],
      "metadata": {
        "colab": {
          "base_uri": "https://localhost:8080/"
        },
        "id": "2AjBMS7ep9Ih",
        "outputId": "b911d113-3cdc-4684-c0db-bd58a9c5eb08"
      },
      "execution_count": 2,
      "outputs": [
        {
          "output_type": "stream",
          "name": "stdout",
          "text": [
            "Looking in indexes: https://pypi.org/simple, https://us-python.pkg.dev/colab-wheels/public/simple/\n",
            "Requirement already satisfied: torchsummary in /usr/local/lib/python3.7/dist-packages (1.5.1)\n"
          ]
        }
      ]
    },
    {
      "cell_type": "code",
      "source": [
        "import numpy as np\n",
        "import os\n",
        "from PIL import Image\n",
        "import matplotlib.pyplot as plt\n",
        "\n",
        "import torch\n",
        "import torch.nn as nn\n",
        "from torch.utils.data import DataLoader,Dataset\n",
        "from torch.utils.tensorboard import SummaryWriter\n",
        "from torchvision import transforms,datasets\n",
        "import torchvision"
      ],
      "metadata": {
        "id": "W9xicjrWhsOb"
      },
      "execution_count": 3,
      "outputs": []
    },
    {
      "cell_type": "code",
      "source": [
        "class UNet(torch.nn.Module):\n",
        "    def __init__(self):\n",
        "        super().__init__()\n",
        "\n",
        "\t\t# Convolution, Batch Normalization, ReLU 연산을 합친 함수\n",
        "        def CBR2d(input_channel, output_channel, kernel_size=3, stride=1):\n",
        "            layer = nn.Sequential(\n",
        "                nn.Conv2d(input_channel, output_channel, kernel_size=kernel_size, stride=stride),\n",
        "                nn.BatchNorm2d(num_features=output_channel),\n",
        "                nn.ReLU()\n",
        "            )\n",
        "            return layer\n",
        "\n",
        "\t\t# Contracting path\n",
        "        # 572x572x1 => 568x568x64\n",
        "        self.conv1 = nn.Sequential(\n",
        "            CBR2d(1, 64, 3, 1),\n",
        "            CBR2d(64, 64, 3, 1)\n",
        "        )\n",
        "\t\t# 568x568x64 => 284x284x64 \t\t\n",
        "        self.pool1 = nn.MaxPool2d(kernel_size=2, stride=2)\n",
        "\n",
        "\n",
        "\t\t# 284x284x64 => 280x280x128\n",
        "        self.conv2 = nn.Sequential(\n",
        "            CBR2d(64, 128, 3, 1),\n",
        "            CBR2d(128, 128, 3, 1)\n",
        "        )\n",
        "\t\t# 280x280x128 => 140x140x128\n",
        "        self.pool2 = nn.MaxPool2d(kernel_size=2, stride=2)\n",
        "\n",
        "\n",
        "\t\t# 140x140x128 => 136x136x256\n",
        "        self.conv3 = nn.Sequential(\n",
        "            CBR2d(128, 256, 3, 1),\n",
        "            CBR2d(256, 256, 3, 1)\n",
        "        )\n",
        "\t\t# 136x136x256 => 68x68x256\n",
        "        self.pool3 = nn.MaxPool2d(kernel_size=2, stride=2)\n",
        "\n",
        "\n",
        "\t\t# 68x68x256 => 64x64x512\n",
        "        # Contracting path 마지막에 Dropout 적용\n",
        "        self.conv4 = nn.Sequential(\n",
        "            CBR2d(256, 512, 3, 1),\n",
        "            CBR2d(512, 512, 3, 1),\n",
        "            nn.Dropout(p=0.5)\n",
        "        )\n",
        "\t\t# 64x64x512 => 32x32x512\n",
        "        self.pool4 = nn.MaxPool2d(kernel_size=2, stride=2)\n",
        "\t\t# Contracting path 끝\n",
        "        \n",
        "\t\t\n",
        "        # Bottlneck 구간\n",
        "        # 32x32x512 => 28x28x1024\n",
        "        self.bottleNeck = nn.Sequential(\n",
        "            CBR2d(512, 1024, 3, 1),\n",
        "            CBR2d(1024, 1024, 3, 1),\n",
        "        )\n",
        "\t\t# Bottlneck 구간 끝\n",
        "\n",
        "\n",
        "\t\t# Expanding path\n",
        "        # channel 수를 감소 시키며 Up-Convolution\n",
        "\t\t# 28x28x1024 => 56x56x512        \n",
        "        self.upconv1 = nn.ConvTranspose2d(in_channels=1024, out_channels=512, kernel_size=2, stride=2)\n",
        "\n",
        "\n",
        "\t\t# Up-Convolution 이후 channel = 512\n",
        "        # Contracting path 중 같은 단계의 Feature map을 가져와 Up-Convolution 결과의 Feature map과 Concat 연산\n",
        "        # => channel = 1024 가 됩니다.\n",
        "        # forward 부분을 참고해주세요\n",
        "        # 56x56x1024 => 52x52x512\n",
        "        self.ex_conv1 = nn.Sequential(\n",
        "            CBR2d(1024, 512, 3, 1),\n",
        "            CBR2d(512, 512, 3, 1)\n",
        "        )\n",
        "\n",
        "\t\t# 52x52x512 => 104x104x256\n",
        "        self.upconv2 = nn.ConvTranspose2d(in_channels=512, out_channels=256, kernel_size=2, stride=2)\n",
        "\n",
        "\t\t# 104x104x512 => 100x100x256\n",
        "        self.ex_conv2 = nn.Sequential(\n",
        "            CBR2d(512, 256, 3, 1),\n",
        "            CBR2d(256, 256, 3, 1)\n",
        "        )\n",
        "\n",
        "\t\t# 100x100x256 => 200x200x128\n",
        "        self.upconv3 = nn.ConvTranspose2d(in_channels=256, out_channels=128, kernel_size=2, stride=2)\n",
        "\n",
        "\t\t# 200x200x256 => 196x196x128\n",
        "        self.ex_conv3 = nn.Sequential(\n",
        "            CBR2d(256, 128, 3, 1),\n",
        "            CBR2d(128, 128, 3, 1)\n",
        "        )\n",
        "\n",
        "\t\t# 196x196x128 => 392x392x64\n",
        "        self.upconv4 = nn.ConvTranspose2d(in_channels=128, out_channels=64, kernel_size=2, stride=2)\n",
        "\n",
        "\t\t# 392x392x128 => 388x388x64\n",
        "        self.ex_conv4 = nn.Sequential(\n",
        "            CBR2d(128, 64, 3, 1),\n",
        "            CBR2d(64, 64, 3, 1),\n",
        "\n",
        "        )\n",
        "\n",
        "\t\t# 논문 구조상 output = 2 channel\n",
        "\t    # train 데이터에서 세포 / 배경을 검출하는것이 목표여서 class_num = 1로 지정\n",
        "\t\t# 388x388x64 => 388x388x1\n",
        "        self.fc = nn.Conv2d(64, 1, kernel_size=1, stride=1)\n",
        "\n",
        "\n",
        "    def forward(self, x):\n",
        "    \t# Contracting path\n",
        "        # 572x572x1 => 568x568x64\n",
        "        layer1 = self.conv1(x)\n",
        "        \n",
        "        # Max Pooling\n",
        "        # 568x568x64 => 284x284x64\n",
        "        out = self.pool1(layer1)\n",
        "\n",
        "\t\t# 284x284x64 => 280x280x128\n",
        "        layer2 = self.conv2(out)\n",
        "        \n",
        "        # Max Pooling\n",
        "        # 280x280x128 => 140x140x128\n",
        "        out = self.pool2(layer2)\n",
        "\n",
        "\t\t# 140x140x128 => 136x136x256\n",
        "        layer3 = self.conv3(out)\n",
        "        \n",
        "        # Max Pooling\n",
        "        # 136x136x256 => 68x68x256\n",
        "        out = self.pool3(layer3)\n",
        "\n",
        "\t\t# 68x68x256 => 64x64x512\n",
        "        layer4 = self.conv4(out)\n",
        "        \n",
        "        # Max Pooling\n",
        "        # 64x64x512 => 32x32x512\n",
        "        out = self.pool4(layer4)\n",
        "\n",
        "\t\t# bottleneck \n",
        "        # 32x32x512 => 28x28x1024\n",
        "        bottleNeck = self.bottleNeck(out)\n",
        "\n",
        "\t\t# Expanding path\n",
        "        # 28x28x1024 => 56x56x512\n",
        "        upconv1 = self.upconv1(bottleNeck)\n",
        "        \n",
        "        # Contracting path 중 같은 단계의 Feature map을 가져와 합침\n",
        "        # Up-Convolution 결과의 Feature map size 만큼 CenterCrop 하여 Concat 연산\n",
        "        # 56x56x512 => 56x56x1024\n",
        "        cat1 = torch.cat((transforms.CenterCrop((upconv1.shape[2], upconv1.shape[3]))(layer4), upconv1), dim=1)\n",
        "        \n",
        "        # 56x56x1024 => 52x52x512\n",
        "        ex_layer1 = self.ex_conv1(cat1)\n",
        "\n",
        "\t\t# 52x52x512 => 104x104x256\n",
        "        upconv2 = self.upconv2(ex_layer1)\n",
        "        \n",
        "        # Contracting path 중 같은 단계의 Feature map을 가져와 합침\n",
        "        # Up-Convolution 결과의 Feature map size 만큼 CenterCrop 하여 Concat 연산\n",
        "        # 104x104x256 => 104x104x512\n",
        "        cat2 = torch.cat((transforms.CenterCrop((upconv2.shape[2], upconv2.shape[3]))(layer3), upconv2), dim=1)\n",
        "        \n",
        "        # 104x104x512 => 100x100x256\n",
        "        ex_layer2 = self.ex_conv2(cat2)\n",
        "\n",
        "\t\t# 100x100x256 => 200x200x128\n",
        "        upconv3 = self.upconv3(ex_layer2)\n",
        "        \n",
        "        # Contracting path 중 같은 단계의 Feature map을 가져와 합침\n",
        "        # Up-Convolution 결과의 Feature map size 만큼 CenterCrop 하여 Concat 연산\n",
        "        # 200x200x128 => 200x200x256\n",
        "        cat3 = torch.cat((transforms.CenterCrop((upconv3.shape[2], upconv3.shape[3]))(layer2), upconv3), dim=1)\n",
        "        \n",
        "        # 200x200x256 => 196x196x128\n",
        "        ex_layer3 = self.ex_conv3(cat3)\n",
        "\n",
        "\t\t# 196x196x128=> 392x392x64\n",
        "        upconv4 = self.upconv4(ex_layer3)\n",
        "        \n",
        "        # Contracting path 중 같은 단계의 Feature map을 가져와 합침\n",
        "        # Up-Convolution 결과의 Feature map size 만큼 CenterCrop 하여 Concat 연산\n",
        "        # 392x392x64 => 392x392x128\n",
        "        cat4 = torch.cat((transforms.CenterCrop((upconv4.shape[2], upconv4.shape[3]))(layer1), upconv4), dim=1)\n",
        "        \n",
        "        # 392x392x128 => 388x388x64\n",
        "        out = self.ex_conv4(cat4)\n",
        "\n",
        "\t\t# 388x388x64 => 388x388x1\n",
        "        out = self.fc(out)\n",
        "        return out"
      ],
      "metadata": {
        "id": "uf7LXZgNh5FA"
      },
      "execution_count": 4,
      "outputs": []
    },
    {
      "cell_type": "markdown",
      "source": [
        "# Dataset & transform"
      ],
      "metadata": {
        "id": "R3FFpYCzxvzm"
      }
    },
    {
      "cell_type": "code",
      "source": [
        "import numpy as np\n",
        "from PIL import Image"
      ],
      "metadata": {
        "id": "4tC3rHvLyQbI"
      },
      "execution_count": 5,
      "outputs": []
    },
    {
      "cell_type": "code",
      "source": [
        "im1 = Image.open(os.path.join('/content/drive/MyDrive/2d_images','/content/drive/MyDrive/2d_images/ID_0000_Z_0142.tif'))\n",
        "\n",
        "\n",
        "im1 = np.asarray(im1)/255.0\n",
        "plt.imshow(im1)\n",
        "im1.shape\n"
      ],
      "metadata": {
        "colab": {
          "base_uri": "https://localhost:8080/",
          "height": 287
        },
        "id": "ZgRxPLVqzBKL",
        "outputId": "e3577912-ed9c-46c0-d0eb-916a2b3e37ce"
      },
      "execution_count": 6,
      "outputs": [
        {
          "output_type": "execute_result",
          "data": {
            "text/plain": [
              "(512, 512)"
            ]
          },
          "metadata": {},
          "execution_count": 6
        },
        {
          "output_type": "display_data",
          "data": {
            "text/plain": [
              "<Figure size 432x288 with 1 Axes>"
            ],
            "image/png": "[encoded data removed]"
          },
          "metadata": {
            "needs_background": "light"
          }
        }
      ]
    },
    {
      "cell_type": "code",
      "source": [
        "input_data = os.listdir('/content/drive/MyDrive/2d_images')\n",
        "label_data = os.listdir('/content/drive/MyDrive/2d_masks')\n",
        "\n",
        "input_list = sorted([os.path.join('/content/drive/MyDrive/2d_images',f) for f in input_data])\n",
        "label_list = sorted([os.path.join('/content/drive/MyDrive/2d_masks',f)for f in label_data if not f.endswith('(1).tif')])\n",
        "\n",
        "input_list[0], label_list[0]"
      ],
      "metadata": {
        "colab": {
          "base_uri": "https://localhost:8080/"
        },
        "id": "KKzPYTkS-Vnq",
        "outputId": "e811861f-742e-4069-d30e-0a5307639bab"
      },
      "execution_count": 7,
      "outputs": [
        {
          "output_type": "execute_result",
          "data": {
            "text/plain": [
              "('/content/drive/MyDrive/2d_images/ID_0000_Z_0142.tif',\n",
              " '/content/drive/MyDrive/2d_masks/ID_0000_Z_0142.tif')"
            ]
          },
          "metadata": {},
          "execution_count": 7
        }
      ]
    },
    {
      "cell_type": "code",
      "source": [
        "!pip install pillow"
      ],
      "metadata": {
        "colab": {
          "base_uri": "https://localhost:8080/"
        },
        "id": "hqNSOe3Thm46",
        "outputId": "135fdbfa-20d7-4bd8-e80e-60021767cb81"
      },
      "execution_count": 8,
      "outputs": [
        {
          "output_type": "stream",
          "name": "stdout",
          "text": [
            "Looking in indexes: https://pypi.org/simple, https://us-python.pkg.dev/colab-wheels/public/simple/\n",
            "Requirement already satisfied: pillow in /usr/local/lib/python3.7/dist-packages (7.1.2)\n"
          ]
        }
      ]
    },
    {
      "cell_type": "code",
      "source": [
        "import PIL\n",
        "print('PIL',PIL.__version__)"
      ],
      "metadata": {
        "colab": {
          "base_uri": "https://localhost:8080/"
        },
        "id": "BcPVWkCRe6-R",
        "outputId": "62daab55-161a-455a-fc49-9fbbc99290e7"
      },
      "execution_count": 9,
      "outputs": [
        {
          "output_type": "stream",
          "name": "stdout",
          "text": [
            "PIL 7.1.2\n"
          ]
        }
      ]
    },
    {
      "cell_type": "code",
      "source": [
        "img = Image.open(label_list[0])\n",
        "img = np.asarray(img)\n",
        "img.shape"
      ],
      "metadata": {
        "colab": {
          "base_uri": "https://localhost:8080/"
        },
        "id": "j9Cq_okVRmWK",
        "outputId": "b6d435b1-1755-42cb-bb7c-a558e13316f5"
      },
      "execution_count": 10,
      "outputs": [
        {
          "output_type": "execute_result",
          "data": {
            "text/plain": [
              "(512, 512)"
            ]
          },
          "metadata": {},
          "execution_count": 10
        }
      ]
    },
    {
      "cell_type": "code",
      "source": [
        "train_input_filepaths = input_list[:200]\n",
        "val_input_filepaths = input_list[200:]\n",
        "\n",
        "train_label_filepaths = label_list[:200]\n",
        "val_label_filepaths = label_list[200:]\n",
        "print(len(train_input_filepaths),len(val_input_filepaths))"
      ],
      "metadata": {
        "colab": {
          "base_uri": "https://localhost:8080/"
        },
        "id": "oNgVbcKpBRay",
        "outputId": "a8e7cdb0-72b2-4d87-85a4-ac0580352c71"
      },
      "execution_count": 11,
      "outputs": [
        {
          "output_type": "stream",
          "name": "stdout",
          "text": [
            "200 67\n"
          ]
        }
      ]
    },
    {
      "cell_type": "code",
      "source": [
        "class UNetDataset(Dataset):\n",
        "  def __init__(self, file_list,label_list,transform=None,phase='train'):\n",
        "    self.file_list = file_list\n",
        "    self.transform = transform\n",
        "    self.label_list = label_list\n",
        "    self.phase = phase\n",
        "\n",
        "  def __len__(self):\n",
        "    return len(self.file_list)\n",
        "\n",
        "  #data load\n",
        "  def __getitem__(self,index):\n",
        "    img_path = self.file_list[index]\n",
        "\n",
        "    img = Image.open(img_path)\n",
        "    img = np.asarray(img)/255.0\n",
        "    img = Image.fromarray(img)\n",
        "    img = img.resize((572,572))\n",
        "    img_transformed = self.transform(img,self.phase)\n",
        "\n",
        "    \n",
        "    label = Image.open(self.label_list[index])\n",
        "\n",
        "    label = np.asarray(label)\n",
        "    label = label/255.0\n",
        "    label = Image.fromarray(label)\n",
        "    label = label.resize((388,388))\n",
        " \n",
        "    img_label_transformed = self.transform(label,self.phase)\n",
        "\n",
        "    return img_transformed, img_label_transformed"
      ],
      "metadata": {
        "id": "oOFPls6nw7Yi"
      },
      "execution_count": 12,
      "outputs": []
    },
    {
      "cell_type": "code",
      "source": [
        "size = 572\n",
        "mean = (0.5,)\n",
        "std = (0.5,)\n",
        "batch_size = 4"
      ],
      "metadata": {
        "id": "-JRfZ9lVFGnB"
      },
      "execution_count": 13,
      "outputs": []
    },
    {
      "cell_type": "code",
      "source": [
        "class ImageTransform():\n",
        "  def __init__(self, resize, mean,std):\n",
        "    self.data_transform = {\n",
        "        'train': transforms.Compose([\n",
        "            #transforms.Resize(resize),\n",
        "            transforms.ToTensor(),\n",
        "            transforms.Normalize(mean,std)\n",
        "        ]),\n",
        "\n",
        "        'val': transforms.Compose([\n",
        "            #transforms.Resize(resize),\n",
        "            transforms.ToTensor(),\n",
        "            transforms.Normalize(mean,std)\n",
        "        ])\n",
        "    }\n",
        "\n",
        "  def __call__(self, img, phase):\n",
        "    return self.data_transform[phase](img)"
      ],
      "metadata": {
        "id": "eqM2u7aBFDHJ"
      },
      "execution_count": 14,
      "outputs": []
    },
    {
      "cell_type": "code",
      "source": [
        "train_dataset = UNetDataset(\n",
        "    file_list = train_input_filepaths,\n",
        "    label_list = train_label_filepaths,\n",
        "    transform= ImageTransform(size,mean,std),\n",
        "    phase='train'\n",
        ")\n",
        "val_dataset = UNetDataset(\n",
        "    file_list = train_input_filepaths,\n",
        "    label_list = train_label_filepaths,\n",
        "    transform= ImageTransform(size,mean,std),\n",
        "    phase='val'\n",
        ")"
      ],
      "metadata": {
        "id": "RRAxuQllF3yW"
      },
      "execution_count": 15,
      "outputs": []
    },
    {
      "cell_type": "code",
      "source": [
        "print(val_dataset.__getitem__(0)[0].size(),val_dataset.__getitem__(0)[1].size())"
      ],
      "metadata": {
        "colab": {
          "base_uri": "https://localhost:8080/"
        },
        "id": "Udy_bmIeGXBK",
        "outputId": "946e2e87-133d-449c-e52f-95a3a67d0673"
      },
      "execution_count": 16,
      "outputs": [
        {
          "output_type": "stream",
          "name": "stdout",
          "text": [
            "torch.Size([1, 572, 572]) torch.Size([1, 388, 388])\n"
          ]
        }
      ]
    },
    {
      "cell_type": "code",
      "source": [
        "train_dataloader = DataLoader(train_dataset, batch_size = batch_size, shuffle=True,num_workers=2)\n",
        "val_dataloader = DataLoader(val_dataset, batch_size = batch_size, shuffle=True,num_workers=2)\n",
        "\n",
        "dataloader_dict = {'train':train_dataloader,'val':val_dataloader}\n",
        "\n",
        "batch_iterator = iter(train_dataloader)\n",
        "inputs, labels = batch_iterator.next()\n",
        "\n",
        "plt.figure(figsize=(10,8))\n",
        "for i in range(0,4):\n",
        "  plt.subplot(2,4,i+1)\n",
        "  plt.imshow(inputs[i].permute(1, 2, 0).squeeze())\n",
        "  plt.subplot(2,4,i+1+4)\n",
        "  plt.imshow(labels[i].permute(1,2,0).squeeze())"
      ],
      "metadata": {
        "colab": {
          "base_uri": "https://localhost:8080/",
          "height": 410
        },
        "id": "Hcix2ij8Gale",
        "outputId": "0813619a-c34b-479c-af71-ec4d018b9e4c"
      },
      "execution_count": 17,
      "outputs": [
        {
          "output_type": "display_data",
          "data": {
            "text/plain": [
              "<Figure size 720x576 with 8 Axes>"
            ],
            "image/png": "[encoded data removed]"
          },
          "metadata": {
            "needs_background": "light"
          }
        }
      ]
    },
    {
      "cell_type": "code",
      "source": [
        "lr = 1e-3\n",
        "batch_size=4\n",
        "num_epoch=3"
      ],
      "metadata": {
        "id": "M6f4pk5GoPZ4"
      },
      "execution_count": 18,
      "outputs": []
    },
    {
      "cell_type": "code",
      "source": [
        "device = 'cuda' if torch.cuda.is_available() else 'cpu'\n",
        "device"
      ],
      "metadata": {
        "id": "DPApiP6U_g9u",
        "colab": {
          "base_uri": "https://localhost:8080/",
          "height": 36
        },
        "outputId": "6fdd14eb-6d90-40a6-d3e0-aad4b6c7e0de"
      },
      "execution_count": 19,
      "outputs": [
        {
          "output_type": "execute_result",
          "data": {
            "text/plain": [
              "'cuda'"
            ],
            "application/vnd.google.colaboratory.intrinsic+json": {
              "type": "string"
            }
          },
          "metadata": {},
          "execution_count": 19
        }
      ]
    },
    {
      "cell_type": "code",
      "source": [
        "Unet = UNet().to(device)"
      ],
      "metadata": {
        "id": "qgGkjxI5pwoT"
      },
      "execution_count": 20,
      "outputs": []
    },
    {
      "cell_type": "code",
      "source": [
        "from torchsummary import summary\n",
        "\n",
        "summary(Unet,input_size=(1,572,572))"
      ],
      "metadata": {
        "id": "xFZsEMhSqCfq"
      },
      "execution_count": null,
      "outputs": []
    },
    {
      "cell_type": "code",
      "source": [
        "def count_parameters(model):\n",
        "  return sum(p.numel() for p in model.parameters() if p.requires_grad) # numel : 파라미터 수 알려줌\n",
        "\n",
        "par = count_parameters(Unet)\n",
        "par"
      ],
      "metadata": {
        "colab": {
          "base_uri": "https://localhost:8080/"
        },
        "id": "z86nM2LfZ5vB",
        "outputId": "788be64a-2451-4bb4-9de5-84e16e49bc38"
      },
      "execution_count": 22,
      "outputs": [
        {
          "output_type": "execute_result",
          "data": {
            "text/plain": [
              "31042369"
            ]
          },
          "metadata": {},
          "execution_count": 22
        }
      ]
    },
    {
      "cell_type": "code",
      "source": [
        "criterion = nn.BCEWithLogitsLoss().to(device)\n",
        "optimizer = torch.optim.Adam(Unet.parameters(),lr=lr)"
      ],
      "metadata": {
        "id": "2KeUa4ETZ_uD"
      },
      "execution_count": 23,
      "outputs": []
    },
    {
      "cell_type": "code",
      "source": [
        "import time"
      ],
      "metadata": {
        "id": "wwJJYxSacuUi"
      },
      "execution_count": 24,
      "outputs": []
    },
    {
      "cell_type": "code",
      "source": [
        "!pip install --user tqdm"
      ],
      "metadata": {
        "id": "IopdkHoldK27",
        "colab": {
          "base_uri": "https://localhost:8080/"
        },
        "outputId": "8b5f4f5f-6e91-4a0e-87f8-3502dd162293"
      },
      "execution_count": 25,
      "outputs": [
        {
          "output_type": "stream",
          "name": "stdout",
          "text": [
            "Looking in indexes: https://pypi.org/simple, https://us-python.pkg.dev/colab-wheels/public/simple/\n",
            "Requirement already satisfied: tqdm in /usr/local/lib/python3.7/dist-packages (4.64.1)\n"
          ]
        }
      ]
    },
    {
      "cell_type": "code",
      "source": [
        "from tqdm import tqdm_notebook as tqdm"
      ],
      "metadata": {
        "id": "Ok052Xp8dNtN"
      },
      "execution_count": 26,
      "outputs": []
    },
    {
      "cell_type": "code",
      "source": [
        "data_dir = '/content/drive/MyDrive/Unet/data'\n",
        "ckpt_dir = '/content/drive/MyDrive/Unet/checkpoint'\n",
        "log_dir = '/content/drive/MyDrive/Unet/log'"
      ],
      "metadata": {
        "id": "wPunN3xistP6"
      },
      "execution_count": 27,
      "outputs": []
    },
    {
      "cell_type": "code",
      "source": [
        "from torch.utils.tensorboard import SummaryWriter\n",
        "# 기타 variables 설정\n",
        "num_train = len(train_dataset)\n",
        "num_val = len(val_dataset)\n",
        "\n",
        "num_train_for_epoch = np.ceil(num_train/batch_size) # np.ceil : 소수점 반올림\n",
        "num_val_for_epoch = np.ceil(num_val/batch_size)\n",
        "\n",
        "# 기타 function 설정\n",
        "fn_tonumpy = lambda x : x.to('cpu').detach().numpy().transpose(0,2,3,1) # device 위에 올라간 텐서를 detach 한 뒤 numpy로 변환\n",
        "fn_denorm = lambda x, mean, std : (x * std) + mean \n",
        "fn_classifier = lambda x :  1.0 * (x > 0.5)  # threshold 0.5 기준으로 indicator function으로 classifier 구현\n",
        "\n",
        "# Tensorbord\n",
        "writer_train = SummaryWriter(log_dir=os.path.join(log_dir,'train'))\n",
        "writer_val = SummaryWriter(log_dir = os.path.join(log_dir,'val'))"
      ],
      "metadata": {
        "id": "_axL2l9fnEIO"
      },
      "execution_count": 28,
      "outputs": []
    },
    {
      "cell_type": "code",
      "source": [
        "import os"
      ],
      "metadata": {
        "id": "lt_EZDqXGaQz"
      },
      "execution_count": 30,
      "outputs": []
    },
    {
      "cell_type": "code",
      "source": [
        "\n",
        "def save(ckpt_dir,net,optim,epoch):\n",
        "  if not os.path.exists(ckpt_dir):\n",
        "    os.makedirs(ckpt_dir)\n",
        "  torch.save({'net':Unet.state_dict(),'optim':optim.state_dict()},'%s/model_epoch%d.pth'%(ckpt_dir,epoch))\n",
        "\n",
        "# 네트워크 불러오기\n",
        "def load(ckpt_dir,net,optim):\n",
        "    if not os.path.exists(ckpt_dir): # 저장된 네트워크가 없다면 인풋을 그대로 반환\n",
        "        epoch = 0\n",
        "        return net, optim, epoch\n",
        "    \n",
        "    ckpt_lst = os.listdir(ckpt_dir) # ckpt_dir 아래 있는 모든 파일 리스트를 받아온다\n",
        "    ckpt_lst.sort(key = lambda f : int(''.join(filter(str.isdigit,f))))\n",
        "\n",
        "    dict_model = torch.load('%s/%s' % (ckpt_dir,ckpt_lst[-1]))\n",
        "\n",
        "    net.load_state_dict(dict_model['net'])\n",
        "    optim.load_state_dict(dict_model['optim'])\n",
        "    epoch = int(ckpt_lst[-1].split('epoch')[1].split('.pth')[0])\n",
        "\n",
        "    return net,optim,epoch"
      ],
      "metadata": {
        "id": "kk4kP36aae5r"
      },
      "execution_count": 31,
      "outputs": []
    },
    {
      "cell_type": "code",
      "source": [
        "# 네트워크 학습시키기\n",
        "start_epoch = 0\n",
        "net, optim, start_epoch = load(ckpt_dir = ckpt_dir, net = Unet, optim = optimizer) # 저장된 네트워크 불러오기\n",
        "\n",
        "\n",
        "for epoch in range(start_epoch+1,num_epoch +1):\n",
        "    Unet.train()\n",
        "    loss_arr = []\n",
        "\n",
        "    for batch, data in enumerate(train_dataloader,1): # 1은 뭐니 > index start point\n",
        "        # forward\n",
        "        inputs = data[0].to(device)\n",
        "        labels = data[1].to(device)   # 데이터 device로 올리기     \n",
        "        epoch_loss = 0.0\n",
        "        output = Unet(inputs) \n",
        "\n",
        "        # backward\n",
        "        optim.zero_grad()  # gradient 초기화\n",
        "        loss = criterion(output, labels)  # output과 label 사이의 loss 계산\n",
        "        loss.backward() # gradient backpropagation\n",
        "        optim.step() # backpropa 된 gradient를 이용해서 각 layer의 parameters update\n",
        "\n",
        "        epoch_loss += loss.item() * inputs.size(0)\n",
        "        # save loss\n",
        "        loss_arr += [loss.item()]\n",
        "\n",
        "        print('TRAIN : epoch {} / {} | Batch {} / {} | Loss {:.4f}'.format(epoch,num_epoch,batch,num_train_for_epoch,epoch_loss))\n",
        "\n",
        "        # tensorbord에 결과값들 저정하기\n",
        "        labels = fn_tonumpy(labels)\n",
        "        inputs = fn_tonumpy(fn_denorm(inputs,0.5,0.5))\n",
        "        output = fn_tonumpy(fn_classifier(output))\n",
        "\n",
        "        writer_train.add_image('labels', labels, num_train_for_epoch * (epoch - 1) + batch, dataformats='NHWC')\n",
        "        writer_train.add_image('inputs', inputs, num_train_for_epoch * (epoch - 1) + batch, dataformats='NHWC')\n",
        "        writer_train.add_image('output', output, num_train_for_epoch * (epoch - 1) + batch, dataformats='NHWC')\n",
        "\n",
        "    writer_train.add_scalar('loss', np.mean(loss_arr), epoch)\n",
        "\n",
        "    \n",
        "    # validation\n",
        "    with torch.no_grad(): # validation 이기 때문에 backpropa 진행 x, 학습된 네트워크가 정답과 얼마나 가까운지 loss만 계산\n",
        "        Unet.eval() # 네트워크를 evaluation 용으로 선언\n",
        "        loss_arr = []\n",
        "\n",
        "        for batch, data in tqdm(enumerate(val_dataloader,1)):\n",
        "            # forward\n",
        "            inputs = data[0].to('cuda')\n",
        "            labels = data[1].to('cuda')\n",
        "            output = Unet(inputs)\n",
        "\n",
        "            # loss \n",
        "            loss = criterion(output,labels)\n",
        "            loss_arr += [loss.item()]\n",
        "            print('valid : epoch %04d / %04d | Batch %04d \\ %04d | Loss %04d'%(epoch,num_epoch,batch,num_val_for_epoch,np.mean(loss_arr)))\n",
        "\n",
        "            # Tensorboard 저장하기\n",
        "            labels = fn_tonumpy(labels)\n",
        "            inputs = fn_tonumpy(fn_denorm(inputs, mean=0.5, std=0.5))\n",
        "            output = fn_tonumpy(fn_classifier(output))\n",
        "\n",
        "            writer_val.add_image('labels', labels, num_val_for_epoch * (epoch - 1) + batch, dataformats='NHWC')\n",
        "            writer_val.add_image('input', inputs, num_val_for_epoch * (epoch - 1) + batch, dataformats='NHWC')\n",
        "            writer_val.add_image('output', output, num_val_for_epoch * (epoch - 1) + batch, dataformats='NHWC')\n",
        "\n",
        "        writer_val.add_scalar('loss', np.mean(loss_arr), epoch)\n",
        "\n",
        "        # epoch이 끝날때 마다 네트워크 저장\n",
        "        save(ckpt_dir=ckpt_dir, net = net, optim = optim, epoch = epoch)\n",
        "\n",
        "writer_train.close()\n",
        "writer_val.close()"
      ],
      "metadata": {
        "colab": {
          "base_uri": "https://localhost:8080/",
          "height": 1000,
          "referenced_widgets": [
            "4a1aee6cc13046009fb869404fbb6f95",
            "d778b97ce8524313977769646e4c212c",
            "d462e33b5df944b28319e48c04940cf8",
            "efaeddd0f1a94465a4cc514e63668f84",
            "3f07ee955b6b4d6282b3315ca7509082",
            "f97d1bd23f3c47f08c71a3f4847187d7",
            "777d88cd4a2e453eb1544ddb444c0394",
            "22a471c7226245a881d0b5817ef09477",
            "3f22b8baf2604905ab53f542bf83fa96",
            "ecea3253f17f4c34a4fdc1cc9b38702f",
            "cac40c99879242d8b8d8e191ce34debe"
          ]
        },
        "id": "V3tMm-4KepEs",
        "outputId": "43f7b3a4-1070-4712-ed7f-2928b263057c"
      },
      "execution_count": 41,
      "outputs": [
        {
          "output_type": "stream",
          "name": "stdout",
          "text": [
            "TRAIN : epoch 1 / 3 | Batch 1 / 50.0 | Loss -2.1927\n",
            "TRAIN : epoch 1 / 3 | Batch 2 / 50.0 | Loss -1.8425\n",
            "TRAIN : epoch 1 / 3 | Batch 3 / 50.0 | Loss -2.5948\n",
            "TRAIN : epoch 1 / 3 | Batch 4 / 50.0 | Loss -2.9012\n",
            "TRAIN : epoch 1 / 3 | Batch 5 / 50.0 | Loss -2.7546\n",
            "TRAIN : epoch 1 / 3 | Batch 6 / 50.0 | Loss -3.2311\n",
            "TRAIN : epoch 1 / 3 | Batch 7 / 50.0 | Loss -2.8855\n",
            "TRAIN : epoch 1 / 3 | Batch 8 / 50.0 | Loss -3.7957\n",
            "TRAIN : epoch 1 / 3 | Batch 9 / 50.0 | Loss -3.5958\n",
            "TRAIN : epoch 1 / 3 | Batch 10 / 50.0 | Loss -3.9650\n",
            "TRAIN : epoch 1 / 3 | Batch 11 / 50.0 | Loss -3.1839\n",
            "TRAIN : epoch 1 / 3 | Batch 12 / 50.0 | Loss -3.9284\n",
            "TRAIN : epoch 1 / 3 | Batch 13 / 50.0 | Loss -3.9073\n",
            "TRAIN : epoch 1 / 3 | Batch 14 / 50.0 | Loss -3.8365\n",
            "TRAIN : epoch 1 / 3 | Batch 15 / 50.0 | Loss -4.4829\n",
            "TRAIN : epoch 1 / 3 | Batch 16 / 50.0 | Loss -4.4881\n",
            "TRAIN : epoch 1 / 3 | Batch 17 / 50.0 | Loss -4.5146\n",
            "TRAIN : epoch 1 / 3 | Batch 18 / 50.0 | Loss -4.0895\n",
            "TRAIN : epoch 1 / 3 | Batch 19 / 50.0 | Loss -5.1194\n",
            "TRAIN : epoch 1 / 3 | Batch 20 / 50.0 | Loss -4.8183\n",
            "TRAIN : epoch 1 / 3 | Batch 21 / 50.0 | Loss -5.3614\n",
            "TRAIN : epoch 1 / 3 | Batch 22 / 50.0 | Loss -5.1893\n",
            "TRAIN : epoch 1 / 3 | Batch 23 / 50.0 | Loss -5.1711\n",
            "TRAIN : epoch 1 / 3 | Batch 24 / 50.0 | Loss -5.2947\n",
            "TRAIN : epoch 1 / 3 | Batch 25 / 50.0 | Loss -5.6911\n",
            "TRAIN : epoch 1 / 3 | Batch 26 / 50.0 | Loss -5.8521\n",
            "TRAIN : epoch 1 / 3 | Batch 27 / 50.0 | Loss -5.2305\n",
            "TRAIN : epoch 1 / 3 | Batch 28 / 50.0 | Loss -5.4429\n",
            "TRAIN : epoch 1 / 3 | Batch 29 / 50.0 | Loss -6.2608\n",
            "TRAIN : epoch 1 / 3 | Batch 30 / 50.0 | Loss -6.1071\n",
            "TRAIN : epoch 1 / 3 | Batch 31 / 50.0 | Loss -6.2490\n",
            "TRAIN : epoch 1 / 3 | Batch 32 / 50.0 | Loss -5.7207\n",
            "TRAIN : epoch 1 / 3 | Batch 33 / 50.0 | Loss -6.4841\n",
            "TRAIN : epoch 1 / 3 | Batch 34 / 50.0 | Loss -5.8780\n",
            "TRAIN : epoch 1 / 3 | Batch 35 / 50.0 | Loss -6.4379\n",
            "TRAIN : epoch 1 / 3 | Batch 36 / 50.0 | Loss -7.1952\n",
            "TRAIN : epoch 1 / 3 | Batch 37 / 50.0 | Loss -7.2087\n",
            "TRAIN : epoch 1 / 3 | Batch 38 / 50.0 | Loss -6.4854\n",
            "TRAIN : epoch 1 / 3 | Batch 39 / 50.0 | Loss -7.3772\n",
            "TRAIN : epoch 1 / 3 | Batch 40 / 50.0 | Loss -7.5946\n",
            "TRAIN : epoch 1 / 3 | Batch 41 / 50.0 | Loss -7.1737\n",
            "TRAIN : epoch 1 / 3 | Batch 42 / 50.0 | Loss -7.7006\n",
            "TRAIN : epoch 1 / 3 | Batch 43 / 50.0 | Loss -7.2937\n",
            "TRAIN : epoch 1 / 3 | Batch 44 / 50.0 | Loss -8.0932\n",
            "TRAIN : epoch 1 / 3 | Batch 45 / 50.0 | Loss -8.1720\n",
            "TRAIN : epoch 1 / 3 | Batch 46 / 50.0 | Loss -8.1635\n",
            "TRAIN : epoch 1 / 3 | Batch 47 / 50.0 | Loss -8.5109\n",
            "TRAIN : epoch 1 / 3 | Batch 48 / 50.0 | Loss -8.6371\n",
            "TRAIN : epoch 1 / 3 | Batch 49 / 50.0 | Loss -8.5289\n",
            "TRAIN : epoch 1 / 3 | Batch 50 / 50.0 | Loss -8.6806\n"
          ]
        },
        {
          "output_type": "stream",
          "name": "stderr",
          "text": [
            "/usr/local/lib/python3.7/dist-packages/ipykernel_launcher.py:46: TqdmDeprecationWarning: This function will be removed in tqdm==5.0.0\n",
            "Please use `tqdm.notebook.tqdm` instead of `tqdm.tqdm_notebook`\n"
          ]
        },
        {
          "output_type": "display_data",
          "data": {
            "text/plain": [
              "0it [00:00, ?it/s]"
            ],
            "application/vnd.jupyter.widget-view+json": {
              "version_major": 2,
              "version_minor": 0,
              "model_id": "4a1aee6cc13046009fb869404fbb6f95"
            }
          },
          "metadata": {}
        },
        {
          "output_type": "stream",
          "name": "stdout",
          "text": [
            "valid : epoch 0001 / 0003 | Batch 0001 \\ 0050 | Loss -002\n",
            "valid : epoch 0001 / 0003 | Batch 0002 \\ 0050 | Loss -002\n",
            "valid : epoch 0001 / 0003 | Batch 0003 \\ 0050 | Loss -002\n",
            "valid : epoch 0001 / 0003 | Batch 0004 \\ 0050 | Loss -002\n",
            "valid : epoch 0001 / 0003 | Batch 0005 \\ 0050 | Loss -002\n",
            "valid : epoch 0001 / 0003 | Batch 0006 \\ 0050 | Loss -002\n",
            "valid : epoch 0001 / 0003 | Batch 0007 \\ 0050 | Loss -002\n",
            "valid : epoch 0001 / 0003 | Batch 0008 \\ 0050 | Loss -002\n",
            "valid : epoch 0001 / 0003 | Batch 0009 \\ 0050 | Loss -002\n",
            "valid : epoch 0001 / 0003 | Batch 0010 \\ 0050 | Loss -002\n",
            "valid : epoch 0001 / 0003 | Batch 0011 \\ 0050 | Loss -002\n",
            "valid : epoch 0001 / 0003 | Batch 0012 \\ 0050 | Loss -002\n",
            "valid : epoch 0001 / 0003 | Batch 0013 \\ 0050 | Loss -002\n",
            "valid : epoch 0001 / 0003 | Batch 0014 \\ 0050 | Loss -002\n",
            "valid : epoch 0001 / 0003 | Batch 0015 \\ 0050 | Loss -002\n",
            "valid : epoch 0001 / 0003 | Batch 0016 \\ 0050 | Loss -002\n",
            "valid : epoch 0001 / 0003 | Batch 0017 \\ 0050 | Loss -002\n",
            "valid : epoch 0001 / 0003 | Batch 0018 \\ 0050 | Loss -002\n",
            "valid : epoch 0001 / 0003 | Batch 0019 \\ 0050 | Loss -002\n",
            "valid : epoch 0001 / 0003 | Batch 0020 \\ 0050 | Loss -002\n",
            "valid : epoch 0001 / 0003 | Batch 0021 \\ 0050 | Loss -002\n",
            "valid : epoch 0001 / 0003 | Batch 0022 \\ 0050 | Loss -002\n",
            "valid : epoch 0001 / 0003 | Batch 0023 \\ 0050 | Loss -002\n",
            "valid : epoch 0001 / 0003 | Batch 0024 \\ 0050 | Loss -002\n",
            "valid : epoch 0001 / 0003 | Batch 0025 \\ 0050 | Loss -002\n",
            "valid : epoch 0001 / 0003 | Batch 0026 \\ 0050 | Loss -002\n"
          ]
        },
        {
          "output_type": "stream",
          "name": "stderr",
          "text": [
            "/usr/local/lib/python3.7/dist-packages/ipykernel_launcher.py:24: DeprecationWarning: An exception was ignored while fetching the attribute `__array_interface__` from an object of type 'TiffImageFile'.  With the exception of `AttributeError` NumPy will always raise this exception in the future.  Raise this deprecation warning to see the original exception. (Warning added NumPy 1.21)\n"
          ]
        },
        {
          "output_type": "error",
          "ename": "KeyboardInterrupt",
          "evalue": "ignored",
          "traceback": [
            "\u001b[0;31m---------------------------------------------------------------------------\u001b[0m",
            "\u001b[0;31mKeyboardInterrupt\u001b[0m                         Traceback (most recent call last)",
            "\u001b[0;32m<ipython-input-41-2deb130a2d0a>\u001b[0m in \u001b[0;36m<module>\u001b[0;34m\u001b[0m\n\u001b[1;32m     52\u001b[0m             \u001b[0;31m# loss\u001b[0m\u001b[0;34m\u001b[0m\u001b[0;34m\u001b[0m\u001b[0;34m\u001b[0m\u001b[0m\n\u001b[1;32m     53\u001b[0m             \u001b[0mloss\u001b[0m \u001b[0;34m=\u001b[0m \u001b[0mcriterion\u001b[0m\u001b[0;34m(\u001b[0m\u001b[0moutput\u001b[0m\u001b[0;34m,\u001b[0m\u001b[0mlabels\u001b[0m\u001b[0;34m)\u001b[0m\u001b[0;34m\u001b[0m\u001b[0;34m\u001b[0m\u001b[0m\n\u001b[0;32m---> 54\u001b[0;31m             \u001b[0mloss_arr\u001b[0m \u001b[0;34m+=\u001b[0m \u001b[0;34m[\u001b[0m\u001b[0mloss\u001b[0m\u001b[0;34m.\u001b[0m\u001b[0mitem\u001b[0m\u001b[0;34m(\u001b[0m\u001b[0;34m)\u001b[0m\u001b[0;34m]\u001b[0m\u001b[0;34m\u001b[0m\u001b[0;34m\u001b[0m\u001b[0m\n\u001b[0m\u001b[1;32m     55\u001b[0m             \u001b[0mprint\u001b[0m\u001b[0;34m(\u001b[0m\u001b[0;34m'valid : epoch %04d / %04d | Batch %04d \\ %04d | Loss %04d'\u001b[0m\u001b[0;34m%\u001b[0m\u001b[0;34m(\u001b[0m\u001b[0mepoch\u001b[0m\u001b[0;34m,\u001b[0m\u001b[0mnum_epoch\u001b[0m\u001b[0;34m,\u001b[0m\u001b[0mbatch\u001b[0m\u001b[0;34m,\u001b[0m\u001b[0mnum_val_for_epoch\u001b[0m\u001b[0;34m,\u001b[0m\u001b[0mnp\u001b[0m\u001b[0;34m.\u001b[0m\u001b[0mmean\u001b[0m\u001b[0;34m(\u001b[0m\u001b[0mloss_arr\u001b[0m\u001b[0;34m)\u001b[0m\u001b[0;34m)\u001b[0m\u001b[0;34m)\u001b[0m\u001b[0;34m\u001b[0m\u001b[0;34m\u001b[0m\u001b[0m\n\u001b[1;32m     56\u001b[0m \u001b[0;34m\u001b[0m\u001b[0m\n",
            "\u001b[0;31mKeyboardInterrupt\u001b[0m: "
          ]
        }
      ]
    },
    {
      "cell_type": "code",
      "source": [],
      "metadata": {
        "id": "XkGdSu9ce9a1"
      },
      "execution_count": null,
      "outputs": []
    }
  ]
}